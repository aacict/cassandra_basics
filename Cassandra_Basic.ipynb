{
 "cells": [
  {
   "cell_type": "markdown",
   "metadata": {},
   "source": [
    "## Model Data using Cassandra"
   ]
  },
  {
   "cell_type": "markdown",
   "metadata": {},
   "source": [
    "### Introduction\n",
    "\n",
    "There is a music streaming app called SoundCloud, that has been using their music streaming app and collecting data on songs and user activity and their aim is to analyze this data especially understanding what songs users are listening to. Currently, they are not making use of a NoSQL db and they have the data stored as a CSV file, thus its difficult for them to query the data. So our task is to create a NoSQL database for helping them with the analysis."
   ]
  },
  {
   "cell_type": "markdown",
   "metadata": {},
   "source": [
    "#### Importing Packages ::::"
   ]
  },
  {
   "cell_type": "code",
   "execution_count": 27,
   "metadata": {},
   "outputs": [],
   "source": [
    "import pandas as pd\n",
    "import numpy as np\n",
    "import cassandra\n",
    "from cassandra.cluster import Cluster\n",
    "import csv\n",
    "\n",
    "file_name = './data/event_data.csv'"
   ]
  },
  {
   "cell_type": "markdown",
   "metadata": {},
   "source": [
    "#### Creating a Cluster on local machine and using port 6000 for it::::"
   ]
  },
  {
   "cell_type": "code",
   "execution_count": 28,
   "metadata": {},
   "outputs": [
    {
     "name": "stdout",
     "output_type": "stream",
     "text": [
      "Error from server: code=2200 [Invalid query] message=\"No keyspace has been specified. USE a keyspace, or explicitly specify keyspace.tablename\"\n"
     ]
    }
   ],
   "source": [
    "# Task: Make a connection to the cassandra instance on your local machine(127.0.0.1) and \n",
    "# create a session to establish connection and begin executing queries\n",
    "try: \n",
    "    cluster = Cluster(['127.0.0.1'],  port=6000)\n",
    "    session = cluster.connect()\n",
    "    session.execute(\"\"\"select * from sound_cloud\"\"\")\n",
    "except Exception as err:\n",
    "    print(err)"
   ]
  },
  {
   "cell_type": "markdown",
   "metadata": {},
   "source": [
    "#### Creating & Setting Keyspace::::"
   ]
  },
  {
   "cell_type": "code",
   "execution_count": 29,
   "metadata": {},
   "outputs": [
    {
     "name": "stdout",
     "output_type": "stream",
     "text": [
      "Error from server: code=2200 [Invalid query] message=\"table sound_cloud does not exist\"\n"
     ]
    }
   ],
   "source": [
    "# Task: Create a Keyspace and Set KEYSPACE to the keyspace specified above\n",
    "try:\n",
    "    session.execute(\"\"\"CREATE KEYSPACE IF NOT EXISTS nosqldb WITH REPLICATION = { 'class' : 'SimpleStrategy', 'replication_factor' : 3 }\"\"\")\n",
    "    session.set_keyspace('nosqldb')\n",
    "    session.execute(\"\"\"select * from sound_cloud\"\"\")\n",
    "except Exception as err:\n",
    "    print(err)"
   ]
  },
  {
   "cell_type": "markdown",
   "metadata": {},
   "source": [
    "## List of Queries "
   ]
  },
  {
   "cell_type": "markdown",
   "metadata": {},
   "source": [
    "### 1. Find the artist_name, song_title and length of song the SoundCloud app history that was heard during  session_number = 338, and item_in_session_number  = 4\n",
    "`Select artist_name, song_title, length from sound_cloud WHERE session_number = 338 and item_in_session_number = 4;`\n",
    "\n",
    "\n",
    "### Ques: How should we model this data? Think about what should be our Primary Key/Partition Key/Clustering Key for the query 1\n",
    "#### Table -> sound_could_history_0\n",
    "* Used session_number as partition key  and item_in_session_number as clustering key"
   ]
  },
  {
   "cell_type": "code",
   "execution_count": 30,
   "metadata": {},
   "outputs": [
    {
     "name": "stdout",
     "output_type": "stream",
     "text": [
      "---------Table created------------\n"
     ]
    }
   ],
   "source": [
    "query = \"\"\"CREATE TABLE IF NOT EXISTS sound_cloud_history_0 (\n",
    "    user_id int,\n",
    "    artist_name text,\n",
    "    song_title text,\n",
    "    length float,\n",
    "    session_number int,\n",
    "    item_in_session_number int,\n",
    "    PRIMARY KEY (session_number, item_in_session_number))\"\"\"\n",
    "try:\n",
    "    session.execute(query)\n",
    "    print(\"---------Table created------------\")\n",
    "except Exception as e:\n",
    "    print(e)       "
   ]
  },
  {
   "cell_type": "markdown",
   "metadata": {},
   "source": [
    "### Inserting our data into of table::::::"
   ]
  },
  {
   "cell_type": "code",
   "execution_count": 31,
   "metadata": {
    "scrolled": false
   },
   "outputs": [],
   "source": [
    "with open(file_name, encoding = 'utf8') as f:\n",
    "    csv_reader = csv.reader(f)\n",
    "    next(csv_reader)\n",
    "    for row in csv_reader:\n",
    "        query = \"\"\"INSERT INTO sound_cloud_history_0 \n",
    "        (user_id, artist_name, song_title, length, session_number, item_in_session_number)  \n",
    "        VALUES (%s, %s, %s, %s, %s, %s)\"\"\"\n",
    "        session.execute(query, (int(row[10]), row[0], row[9], float(row[5]), int(row[8]), int(row[3])))"
   ]
  },
  {
   "cell_type": "markdown",
   "metadata": {},
   "source": [
    "### Validating our Data Model using a SELECT:::::"
   ]
  },
  {
   "cell_type": "code",
   "execution_count": 32,
   "metadata": {
    "scrolled": true
   },
   "outputs": [
    {
     "name": "stdout",
     "output_type": "stream",
     "text": [
      "session_number  item_in_session_number    artist_name     song_title     \n",
      "--------------------------------------------------------------------------------------------------------------------\n",
      "338             4                         Faithless       Music Matters (Mark Knight Dub)\n"
     ]
    }
   ],
   "source": [
    "query = \"\"\"SELECT artist_name, song_title, length, session_number, item_in_session_number\n",
    "FROM sound_cloud_history_0 \n",
    "WHERE session_number = 338 and item_in_session_number = 4;\"\"\"\n",
    "try:\n",
    "    rows = session.execute(query)\n",
    "except Exception as e:\n",
    "    print(e)\n",
    "\n",
    "print (\"{:<15} {:<25} {:<15} {:<15}\".format(\"session_number\", \"item_in_session_number\", \"artist_name\", \"song_title\", \"length\"))\n",
    "print (\"--------------------------------------------------------------------------------------------------------------------\")\n",
    "for row in rows:\n",
    "    print (\"{:<15} {:<25} {:<15} {:<15}\".format(row.session_number, row.item_in_session_number, row.artist_name, row.song_title, row.length))"
   ]
  },
  {
   "cell_type": "markdown",
   "metadata": {},
   "source": [
    "### 2. Find the artist_name, song_title (sorted by item_in_session_number) and name(fname and lname) of the user for user_id = 10, session_number = 182\n",
    "    \n",
    "`Select artist_name, song_title, fname, lname from sound_cloud Where user_id = 10 and session_number = 182 ORDER BY item_in_session_number;`\n",
    "\n",
    "### Ques: How should we model this data? Think about what should be our Primary Key/Partition Key/Clustering Key for the query 2\n",
    "#### Table -> sound_could_history_1\n",
    "- Used user_id, session_number as partition key and item_in_session_number as clustering key and combination forms a primary key"
   ]
  },
  {
   "cell_type": "code",
   "execution_count": 33,
   "metadata": {},
   "outputs": [
    {
     "name": "stdout",
     "output_type": "stream",
     "text": [
      "---------Table created------------\n"
     ]
    }
   ],
   "source": [
    "query = \"\"\"CREATE TABLE IF NOT EXISTS sound_cloud_history_1 (\n",
    "    user_id int,\n",
    "    artist_name text,\n",
    "    fname text,\n",
    "    lname text,\n",
    "    song_title text,\n",
    "    session_number int,\n",
    "    item_in_session_number int,\n",
    "    PRIMARY KEY ((user_id, session_number), item_in_session_number))\"\"\"\n",
    "try:\n",
    "    session.execute(query)\n",
    "    print(\"---------Table created------------\")\n",
    "except Exception as e:\n",
    "    print(e)                  "
   ]
  },
  {
   "cell_type": "markdown",
   "metadata": {},
   "source": [
    "### Inserting our data into of table::::"
   ]
  },
  {
   "cell_type": "code",
   "execution_count": 34,
   "metadata": {
    "scrolled": false
   },
   "outputs": [],
   "source": [
    "with open(file_name, encoding = 'utf8') as f:\n",
    "    csv_reader = csv.reader(f)\n",
    "    next(csv_reader)\n",
    "    for row in csv_reader:\n",
    "        query = \"\"\"INSERT INTO sound_cloud_history_1 \n",
    "        (user_id, artist_name, fname, lname, song_title, session_number, item_in_session_number)  \n",
    "        VALUES (%s, %s, %s, %s, %s, %s, %s)\"\"\"\n",
    "        session.execute(query, (int(row[10]), row[0], row[1], row[4], row[9], int(row[8]), int(row[3])))\n"
   ]
  },
  {
   "cell_type": "markdown",
   "metadata": {},
   "source": [
    "### Validating our Data Model using a SELECT::::"
   ]
  },
  {
   "cell_type": "code",
   "execution_count": 35,
   "metadata": {
    "scrolled": true
   },
   "outputs": [
    {
     "name": "stdout",
     "output_type": "stream",
     "text": [
      "item_in_session_number    session_number  user_id         fname           lname           artist_name               song_title     \n",
      "--------------------------------------------------------------------------------------------------------------------------------\n",
      "0                         182             10              Sylvie          Cruz            Down To The Bone          Keep On Keepin' On\n",
      "1                         182             10              Sylvie          Cruz            Three Drives              Greece 2000    \n",
      "2                         182             10              Sylvie          Cruz            Sebastien Tellier         Kilometer      \n",
      "3                         182             10              Sylvie          Cruz            Lonnie Gordon             Catch You Baby (Steve Pitron & Max Sanna Radio Edit)\n"
     ]
    }
   ],
   "source": [
    "query = \"\"\"SELECT artist_name, song_title, fname, lname, session_number, item_in_session_number, user_id \n",
    "FROM sound_cloud_history_1 \n",
    "WHERE user_id = 10 and session_number = 182 \n",
    "ORDER BY item_in_session_number;\"\"\"\n",
    "try:\n",
    "    rows = session.execute(query)\n",
    "except Exception as e:\n",
    "    print(e)\n",
    "    \n",
    "print (\"{:<25} {:<15} {:<15} {:<15} {:<15} {:<25} {:<15}\".format(\"item_in_session_number\", \"session_number\", \"user_id\", \"fname\", \"lname\", \"artist_name\", \"song_title\"))\n",
    "print (\"--------------------------------------------------------------------------------------------------------------------------------\")\n",
    "\n",
    "for row in rows:\n",
    "    print (\"{:<25} {:<15} {:<15} {:<15} {:<15} {:<25} {:<15}\".format(row.item_in_session_number, row.session_number, row.user_id, row.fname, row.lname, row.artist_name, row.song_title))"
   ]
  },
  {
   "cell_type": "markdown",
   "metadata": {},
   "source": [
    "### 3. Find every name(fname and lname) of the user from the SoundCloud app history that listened to the song_title 'All Hands Against His Own'\n",
    "`SELECT fname, lname FROM sound_cloud WHERE song_title = 'All Hands Against His Own';`\n",
    "\n",
    "### Ques: How should we model this data? Think about what should be our Primary Key/Partition Key/Clustering Key for the query 3\n",
    "\n",
    "#### Table -> sound_could_history_2\n",
    "- Used song_title as partition key and user_id as clustering key and combination forms a primary key"
   ]
  },
  {
   "cell_type": "code",
   "execution_count": 36,
   "metadata": {},
   "outputs": [
    {
     "name": "stdout",
     "output_type": "stream",
     "text": [
      "---------Table created------------\n"
     ]
    }
   ],
   "source": [
    "query = \"\"\"CREATE TABLE IF NOT EXISTS sound_cloud_history_2 (\n",
    "    user_id int,\n",
    "    fname text,\n",
    "    lname text,\n",
    "    song_title text,\n",
    "    PRIMARY KEY (song_title, user_id))\"\"\"\n",
    "try:\n",
    "    session.execute(query)\n",
    "    print(\"---------Table created------------\")\n",
    "except Exception as e:\n",
    "    print(e)               "
   ]
  },
  {
   "cell_type": "markdown",
   "metadata": {},
   "source": [
    "### Inserting our data into of table::::"
   ]
  },
  {
   "cell_type": "code",
   "execution_count": 37,
   "metadata": {
    "scrolled": false
   },
   "outputs": [],
   "source": [
    "with open(file_name, encoding = 'utf8') as f:\n",
    "    csv_reader = csv.reader(f)\n",
    "    next(csv_reader)\n",
    "    for row in csv_reader:\n",
    "        query = \"\"\"INSERT INTO sound_cloud_history_2 \n",
    "        (user_id, fname, lname, song_title)  \n",
    "        VALUES (%s, %s, %s, %s)\"\"\"\n",
    "        session.execute(query, (int(row[10]), row[1], row[4], row[9]))"
   ]
  },
  {
   "cell_type": "markdown",
   "metadata": {},
   "source": [
    "### Validating our Data Model using a SELECT::::"
   ]
  },
  {
   "cell_type": "code",
   "execution_count": 38,
   "metadata": {
    "scrolled": true
   },
   "outputs": [
    {
     "name": "stdout",
     "output_type": "stream",
     "text": [
      "user_id         fname           lname           song_title     \n",
      "--------------------------------------------------------------------------------------------------------------------------------\n",
      "29              Jacqueline      Lynch           All Hands Against His Own\n",
      "80              Tegan           Levine          All Hands Against His Own\n",
      "95              Sara            Johnson         All Hands Against His Own\n"
     ]
    }
   ],
   "source": [
    "query = \"\"\"SELECT user_id,fname, lname, song_title\n",
    "FROM sound_cloud_history_2 \n",
    "WHERE song_title = 'All Hands Against His Own';\"\"\"\n",
    "try:\n",
    "    rows = session.execute(query)\n",
    "except Exception as e:\n",
    "    print(e)\n",
    "print (\"{:<15} {:<15} {:<15} {:<15}\".format(\"user_id\", \"fname\", \"lname\", \"song_title\"))\n",
    "print (\"--------------------------------------------------------------------------------------------------------------------------------\")\n",
    "for row in rows:\n",
    "    print (\"{:<15} {:<15} {:<15} {:<15}\".format(row.user_id, row.fname, row.lname, row.song_title))"
   ]
  },
  {
   "cell_type": "markdown",
   "metadata": {},
   "source": [
    "### Dropping the tables before closing out the sessions::::"
   ]
  },
  {
   "cell_type": "code",
   "execution_count": 39,
   "metadata": {},
   "outputs": [
    {
     "name": "stdout",
     "output_type": "stream",
     "text": [
      "Deleted table sound_cloud_history_0\n",
      "Deleted table sound_cloud_history_1\n",
      "Deleted table sound_cloud_history_2\n"
     ]
    }
   ],
   "source": [
    "tables = ['sound_cloud_history_0','sound_cloud_history_1','sound_cloud_history_2']\n",
    "for tb in tables:\n",
    "  try:\n",
    "        query = \"DROP table\" + \" \" + tb\n",
    "        session.execute(query)\n",
    "        print(f\"Deleted table {tb}\")\n",
    "  except Exception as e:\n",
    "      print(e)"
   ]
  },
  {
   "cell_type": "markdown",
   "metadata": {},
   "source": [
    "### Closing the session and cluster connection::::¶"
   ]
  },
  {
   "cell_type": "code",
   "execution_count": 40,
   "metadata": {},
   "outputs": [],
   "source": [
    "session.shutdown()\n",
    "cluster.shutdown()"
   ]
  }
 ],
 "metadata": {
  "kernelspec": {
   "display_name": "Python 3",
   "language": "python",
   "name": "python3"
  },
  "language_info": {
   "codemirror_mode": {
    "name": "ipython",
    "version": 3
   },
   "file_extension": ".py",
   "mimetype": "text/x-python",
   "name": "python",
   "nbconvert_exporter": "python",
   "pygments_lexer": "ipython3",
   "version": "3.11.4"
  }
 },
 "nbformat": 4,
 "nbformat_minor": 2
}
